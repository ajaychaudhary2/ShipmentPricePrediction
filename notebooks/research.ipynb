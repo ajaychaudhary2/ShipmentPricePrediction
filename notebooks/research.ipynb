{
 "cells": [
  {
   "cell_type": "code",
   "execution_count": null,
   "metadata": {},
   "outputs": [],
   "source": [
    "import pandas as pd\n",
    "\n",
    "# Example: Load your DataFrame\n",
    "# features = pd.read_csv('your_data.csv')  # Load your data\n",
    "\n",
    "# Clean column names by stripping whitespace\n",
    "features.columns = features.columns.str.strip()\n",
    "\n",
    "# Print the cleaned column names for verification\n",
    "print(\"Features DataFrame columns:\", features.columns.tolist())\n",
    "\n",
    "# Try accessing 'Line Item Value' and handle the potential KeyError\n",
    "try:\n",
    "    line_item_value = features['Line Item Value']  # Ensure correct access\n",
    "    # Continue processing with line_item_value\n",
    "except KeyError as e:\n",
    "    print(f\"Error: {e}\")  # Print the error message if the column is not found\n"
   ]
  }
 ],
 "metadata": {
  "kernelspec": {
   "display_name": "Python 3",
   "language": "python",
   "name": "python3"
  },
  "language_info": {
   "name": "python",
   "version": "3.8.20"
  }
 },
 "nbformat": 4,
 "nbformat_minor": 2
}
